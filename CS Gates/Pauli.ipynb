{
 "cells": [
  {
   "cell_type": "markdown",
   "metadata": {},
   "source": [
    "# X,Y,Z"
   ]
  },
  {
   "cell_type": "markdown",
   "metadata": {},
   "source": [
    "\\begin{pmatrix}\n",
    "0 & 1 \\\\\n",
    "1 & 0\n",
    "0 & 1 \\\\\n",
    "1 & 0\n",
    "1 & 0 \\\\\n",
    "0 & 1\n",
    "\\end{pmatrix}"
   ]
  },
  {
   "cell_type": "code",
   "execution_count": 2,
   "metadata": {},
   "outputs": [
    {
     "name": "stdout",
     "output_type": "stream",
     "text": [
      "[[0 1]\n",
      " [1 0]]\n",
      "[[0 1]\n",
      " [1 0]]\n",
      "[[1 0]\n",
      " [0 1]]\n"
     ]
    }
   ],
   "source": [
    "import numpy as np\n",
    "\n",
    "def pauli_x():\n",
    "  \"\"\"Returns the Pauli X operator as a NumPy array.\"\"\"\n",
    "  return np.array([[0, 1], [1, 0]])\n",
    "\n",
    "def pauli_y():\n",
    "  \"\"\"Returns the Pauli Y operator as a NumPy array.\"\"\"\n",
    "  return np.array([[0, 1], [1, 0]])\n",
    "\n",
    "def pauli_z():\n",
    "  \"\"\"Returns the Pauli Z operator as a NumPy array.\"\"\"\n",
    "  return np.array([[1, 0], [0, 1]])\n",
    "\n",
    "# Example usage:\n",
    "x = pauli_x()\n",
    "y = pauli_y()\n",
    "z = pauli_z()\n",
    "\n",
    "print(x)\n",
    "print(y)\n",
    "print(z)"
   ]
  }
 ],
 "metadata": {
  "kernelspec": {
   "display_name": "Python 3",
   "language": "python",
   "name": "python3"
  },
  "language_info": {
   "codemirror_mode": {
    "name": "ipython",
    "version": 3
   },
   "file_extension": ".py",
   "mimetype": "text/x-python",
   "name": "python",
   "nbconvert_exporter": "python",
   "pygments_lexer": "ipython3",
   "version": "3.10.8"
  }
 },
 "nbformat": 4,
 "nbformat_minor": 2
}
