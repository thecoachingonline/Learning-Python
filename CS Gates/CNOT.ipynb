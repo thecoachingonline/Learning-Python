{
 "cells": [
  {
   "cell_type": "markdown",
   "metadata": {},
   "source": [
    "# CNOT"
   ]
  },
  {
   "cell_type": "code",
   "execution_count": 2,
   "metadata": {},
   "outputs": [
    {
     "name": "stdout",
     "output_type": "stream",
     "text": [
      "[[1.+0.j 0.+0.j 0.+0.j 0.+0.j]\n",
      " [0.+0.j 1.+0.j 0.+0.j 0.+0.j]\n",
      " [0.+0.j 0.+0.j 0.+0.j 1.+0.j]\n",
      " [0.+0.j 0.+0.j 1.+0.j 0.+0.j]]\n",
      "[[1.+0.j 0.+0.j 0.+0.j 0.+0.j]\n",
      " [0.+0.j 1.+0.j 0.+0.j 0.+0.j]\n",
      " [0.+0.j 0.+0.j 0.+0.j 1.+0.j]\n",
      " [0.+0.j 0.+0.j 1.+0.j 0.+0.j]]\n"
     ]
    }
   ],
   "source": [
    "import numpy as np\n",
    "\n",
    "def cnot(control, target):\n",
    "  \"\"\"Returns the CNOT gate as a NumPy array.\n",
    "\n",
    "  Args:\n",
    "    control: The control qubit index.\n",
    "    target: The target qubit index.\n",
    "\n",
    "  Returns:\n",
    "    A NumPy array representing the CNOT gate.\n",
    "  \"\"\"\n",
    "  # Create the identity matrix\n",
    "  I = np.eye(4, dtype=complex)\n",
    "\n",
    "  # Create the CNOT gate\n",
    "  CNOT = np.array([[1, 0, 0, 0],\n",
    "                   [0, 1, 0, 0],\n",
    "                   [0, 0, 0, 1],\n",
    "                   [0, 0, 1, 0]])\n",
    "\n",
    "  # Apply the CNOT gate to the target qubit controlled by the control qubit\n",
    "  if control == 0 and target == 1:\n",
    "    return np.dot(CNOT, I)\n",
    "  elif control == 1 and target == 0:\n",
    "    return np.dot(I, CNOT)\n",
    "  else:\n",
    "    return I\n",
    "\n",
    "cnot_0_1 = cnot(0, 1)\n",
    "cnot_1_0 = cnot(1, 0)\n",
    "\n",
    "print(cnot_0_1)\n",
    "print(cnot_1_0)\n"
   ]
  }
 ],
 "metadata": {
  "kernelspec": {
   "display_name": "Python 3",
   "language": "python",
   "name": "python3"
  },
  "language_info": {
   "codemirror_mode": {
    "name": "ipython",
    "version": 3
   },
   "file_extension": ".py",
   "mimetype": "text/x-python",
   "name": "python",
   "nbconvert_exporter": "python",
   "pygments_lexer": "ipython3",
   "version": "3.10.8"
  }
 },
 "nbformat": 4,
 "nbformat_minor": 2
}
