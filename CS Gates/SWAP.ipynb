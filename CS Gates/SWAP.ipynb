{
 "cells": [
  {
   "cell_type": "markdown",
   "metadata": {},
   "source": [
    "# SWAP"
   ]
  },
  {
   "cell_type": "code",
   "execution_count": 2,
   "metadata": {},
   "outputs": [
    {
     "name": "stdout",
     "output_type": "stream",
     "text": [
      "[[1.+0.j 0.+0.j 0.+0.j 0.+0.j]\n",
      " [0.+0.j 0.+0.j 1.+0.j 0.+0.j]\n",
      " [0.+0.j 1.+0.j 0.+0.j 0.+0.j]\n",
      " [0.+0.j 0.+0.j 0.+0.j 1.+0.j]]\n",
      "[[1.+0.j 0.+0.j 0.+0.j 0.+0.j]\n",
      " [0.+0.j 0.+0.j 1.+0.j 0.+0.j]\n",
      " [0.+0.j 1.+0.j 0.+0.j 0.+0.j]\n",
      " [0.+0.j 0.+0.j 0.+0.j 1.+0.j]]\n"
     ]
    }
   ],
   "source": [
    "import numpy as np\n",
    "\n",
    "def swap(q1, q2):\n",
    "  \"\"\"Returns the SWAP gate as a NumPy array.\n",
    "\n",
    "  Args:\n",
    "    q1: The first qubit index.\n",
    "    q2: The second qubit index.\n",
    "\n",
    "  Returns:\n",
    "    A NumPy array representing the SWAP gate.\n",
    "  \"\"\"\n",
    "  # Create the identity matrix\n",
    "  I = np.eye(4, dtype=complex)\n",
    "\n",
    "  # Create the SWAP gate\n",
    "  SWAP = np.array([[1, 0, 0, 0],\n",
    "                   [0, 0, 1, 0],\n",
    "                   [0, 1, 0, 0],\n",
    "                   [0, 0, 0, 1]])\n",
    "\n",
    "  # Apply the SWAP gate to the two qubits\n",
    "  if q1 == 0 and q2 == 1:\n",
    "    return np.dot(SWAP, I)\n",
    "  elif q1 == 1 and q2 == 0:\n",
    "    return np.dot(I, SWAP)\n",
    "  else:\n",
    "    return I\n",
    "\n",
    "# Example usage:\n",
    "swap_0_1 = swap(0, 1)\n",
    "swap_1_0 = swap(1, 0)\n",
    "\n",
    "print(swap_0_1)\n",
    "print(swap_1_0)\n"
   ]
  }
 ],
 "metadata": {
  "kernelspec": {
   "display_name": "Python 3",
   "language": "python",
   "name": "python3"
  },
  "language_info": {
   "codemirror_mode": {
    "name": "ipython",
    "version": 3
   },
   "file_extension": ".py",
   "mimetype": "text/x-python",
   "name": "python",
   "nbconvert_exporter": "python",
   "pygments_lexer": "ipython3",
   "version": "3.10.8"
  }
 },
 "nbformat": 4,
 "nbformat_minor": 2
}
