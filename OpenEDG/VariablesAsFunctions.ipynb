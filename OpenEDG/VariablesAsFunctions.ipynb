{
 "cells": [
  {
   "cell_type": "markdown",
   "metadata": {},
   "source": [
    "# Variables as Functions"
   ]
  },
  {
   "cell_type": "code",
   "execution_count": 1,
   "metadata": {},
   "outputs": [],
   "source": [
    "x = 5"
   ]
  },
  {
   "cell_type": "code",
   "execution_count": 3,
   "metadata": {},
   "outputs": [],
   "source": [
    "def x():\n",
    "    return 5"
   ]
  },
  {
   "cell_type": "markdown",
   "metadata": {},
   "source": [
    "## Viewing function data with __code__"
   ]
  },
  {
   "cell_type": "code",
   "execution_count": 4,
   "metadata": {},
   "outputs": [
    {
     "name": "stdout",
     "output_type": "stream",
     "text": [
      "()\n",
      "b'd\\x01S\\x00'\n"
     ]
    }
   ],
   "source": [
    "print(x.__code__.co_varnames)\n",
    "print(x.__code__.co_code)"
   ]
  },
  {
   "cell_type": "markdown",
   "metadata": {},
   "source": [
    "## Text processing in Python"
   ]
  },
  {
   "cell_type": "code",
   "execution_count": 3,
   "metadata": {},
   "outputs": [],
   "source": [
    "text = '''\n",
    "พาหุงสะหัส สะมะภินิมมิตะสาวุธันตัง\n",
    "ครีเมขะลัง อุทิตะโฆ ระสะเสนะมารัง\n",
    "ทานาทิธัมมะวิธินา ชิตะวา มุนินโท\n",
    "ตันเตชะสา ภะวะตุ เต ชะยะมังคะลานิ\n",
    "\n",
    "มาราติเร กะมะภิยุชฌิตะสัพพะรัตติง\n",
    "โฆรัมปะนาฬะวะกะมักขะมะถัทธะยักขัง\n",
    "ขันตีสุทันตะวิธินา ชิตะวา มุนินโท\n",
    "ตันเตชะสา ภะวะตุ เต ชะยะมังคะลานิ\n",
    "\n",
    "นาฬาคิริง คะชะวะรัง อะติมัตตะภูตัง\n",
    "ทาวัคคิจักกะมะสะนีวะ สุทารุณันตัง\n",
    "เมตตัมพุเสกะวิธินา ชิตะวา มุนินโท\n",
    "ตันเตชะสา ภะวะตุ เต ชะยะมังคะลานิ\n",
    "\n",
    "อุกขิตตะขัคคะมะติหัตถะสุทารุณันตัง\n",
    "ธาวันติโยชะนะปะถังคุลิมาละวันตัง\n",
    "อิทธีภิสังขะตะมะโน ชิตะวา มุนินโท\n",
    "ตันเตชะสา ภะวะตุ เต ชะยะมังคะลานิ\n",
    "\n",
    "กัตตะวานะ กัฏฐะมุทะรัง อิวะ คัพภินียา\n",
    "จิญจายะ ทุฏฐะวะจะนัง ชะยะกายะมัชเฌ\n",
    "สันเตนะ โสมะวิธินา ชิตะวา มุนินโท\n",
    "ตันเตชะสา ภะวะตุ เต ชะยะมังคะลานิ\n",
    "\n",
    "สัจจัง วิหายะ มะติสัจจะกาวาทะเกตุง\n",
    "วาทาภิโรปิตะมะนัง อะติอันธะภูตัง\n",
    "ปัญญาปะทีปะชะลิโต ชิตะวา มุนินโท\n",
    "ตันเตชะสา ภะวะตุ เต ชะยะมังคะลานิ\n",
    "\n",
    "นันโทปะนันทะภุชะคัง วิพุธัง มะหิทธิง\n",
    "ปุตเตนะ เถระภุชะเคนะ ทะมาปะยันโต\n",
    "อิทธูปะเทสะวิธินา ชิตะวา มุนินโท\n",
    "ตันเตชะสา ภะวะตุ เต ชะยะมังคะลานิ\n",
    "\n",
    "ทุคคาหะทิฏฐิภุชะเคนะ สุทัฏฐะหัตถัง\n",
    "พรัหมัง วิสุทธิชุติมิทธิพะกาภิธานัง\n",
    "ญาณาคะเทนะ วิธินา ชิตะวา มุนินโท\n",
    "ตันเตชะสา ภะวะตุ เต ชะยะมังคะลานิ\n",
    "\n",
    "เอตาปิ พุทธะชะยะมังคะละอัฉฐะคาถา โย\n",
    "วาจะโน ทินะทิเน สะระเต มะตันที\n",
    "หิตวานะเนกะวิวิธานิ จุปัททะวานิ\n",
    "โมกขัง สุขัง อะธิคะเมยยะ นะโร สะปัญโญ\n",
    "'''"
   ]
  },
  {
   "cell_type": "code",
   "execution_count": 4,
   "metadata": {},
   "outputs": [],
   "source": [
    "def lowercase(text):\n",
    "    return text.lower()\n",
    "\n",
    "def removePunctuation(text):\n",
    "    punctuations = ['.', '-', ',', '*']\n",
    "    for punctuation in punctuations:\n",
    "        text = text.replace(punctuation, '')\n",
    "    return text\n",
    "\n",
    "def removeNewlines(text):\n",
    "    text = text.replace('\\n', ' ')\n",
    "    return text\n",
    "\n",
    "def removeShortWords(text):\n",
    "    return ' '.join([word for word in text.split() if len(word) > 3])\n",
    "\n",
    "def removeLongWords(text):\n",
    "    return ' '.join([word for word in text.split() if len(word) < 6])"
   ]
  },
  {
   "cell_type": "code",
   "execution_count": 6,
   "metadata": {},
   "outputs": [
    {
     "name": "stdout",
     "output_type": "stream",
     "text": [
      "เต เต เต เต อิวะ เต เต เต เต โย สุขัง นะโร\n"
     ]
    }
   ],
   "source": [
    "processingFunctions = [lowercase, removePunctuation, removeNewlines, removeLongWords]\n",
    "\n",
    "for func in processingFunctions:\n",
    "    text = func(text)\n",
    "\n",
    "print(text)"
   ]
  },
  {
   "cell_type": "markdown",
   "metadata": {},
   "source": [
    "## Lambda functions"
   ]
  }
 ],
 "metadata": {
  "kernelspec": {
   "display_name": "Python 3",
   "language": "python",
   "name": "python3"
  },
  "language_info": {
   "codemirror_mode": {
    "name": "ipython",
    "version": 3
   },
   "file_extension": ".py",
   "mimetype": "text/x-python",
   "name": "python",
   "nbconvert_exporter": "python",
   "pygments_lexer": "ipython3",
   "version": "3.10.8"
  }
 },
 "nbformat": 4,
 "nbformat_minor": 2
}
