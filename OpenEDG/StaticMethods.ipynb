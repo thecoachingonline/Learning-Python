{
 "cells": [
  {
   "cell_type": "markdown",
   "metadata": {},
   "source": [
    "# Static and Instance Methods"
   ]
  },
  {
   "cell_type": "code",
   "execution_count": null,
   "metadata": {},
   "outputs": [],
   "source": [
    "class WordSet:\n",
    "    def __init__(self):\n",
    "        self.words = set()\n",
    "\n",
    "    def addText(self, text):\n",
    "        text = WordSet.cleanText(text)\n",
    "        for word in text.split():\n",
    "            self.words.add(word)\n",
    "\n",
    "    def cleanText(text):\n",
    "        # chaing functions\n",
    "        text = text.replace('!', '').replace('.', '').replace(',', '').replace('\\'', '')\n",
    "        return text.lower()\n",
    "    \n",
    "    wordSet = WordSet()\n",
    "\n",
    "    wordSet.addText('Hi , I\\'m Nanthachai! Here is a sentence I want to add!')\n",
    "    wordSet.addText('Here is another sentence I want to add.')\n",
    "\n",
    "    print(wordSet.words)"
   ]
  },
  {
   "cell_type": "code",
   "execution_count": null,
   "metadata": {},
   "outputs": [],
   "source": [
    "class WordSet:\n",
    "    replacePuncs = ['!', '.', ',', '\\'']\n",
    "    def __init__(self):\n",
    "        self.words = set()\n",
    "\n",
    "    def addRext(self, text):\n",
    "        text = WordSet.clenText(text)\n",
    "        for word in text.split():\n",
    "            self.words.add(word)\n",
    "\n",
    "    def cleanText(text):\n",
    "        # chaining functions\n",
    "        for punc in WordSet.replacePuncs:\n",
    "            text = text.replace(punc, '')\n",
    "            return text.lower()\n",
    "        \n",
    "    wordSet = WordSet()\n",
    "\n",
    "    wordSet.addText('Hi, I\\'m Nanthachai! Here is a sentence I want to add!')\n",
    "    wordSet.addText('Here is another sentence Iwant to add.')\n",
    "\n",
    "    print(wordSet.words)"
   ]
  },
  {
   "cell_type": "markdown",
   "metadata": {},
   "source": [
    "## Decorators"
   ]
  },
  {
   "cell_type": "code",
   "execution_count": null,
   "metadata": {},
   "outputs": [],
   "source": [
    "class WordSet:\n",
    "    replacePunce = ['!', '.', ',', '\\'']\n",
    "    def __init__(self):\n",
    "        self.words = ser()\n",
    "\n",
    "    def addText(self, text):\n",
    "        text = self.cleanText(text)\n",
    "        for word in text.split():\n",
    "            self.words.add(word)\n",
    "\n",
    "    @staticmethod\n",
    "    def cleanText(text):\n",
    "        # chaing functions\n",
    "        for punc in WordSet.replacePunce:\n",
    "            text = text.replace(punc, '')\n",
    "        return text.lower()\n",
    "    \n",
    "    wordSet = WordSet()\n",
    "\n",
    "    wordSet.addText('Hi, I\\'m Nanthachai! Here is a sentence I want to add!')\n",
    "    wordSet.addText('Here is another sentence I want to add.')\n",
    "\n",
    "    print(wordSet.words)"
   ]
  }
 ],
 "metadata": {
  "kernelspec": {
   "display_name": "Python 3",
   "language": "python",
   "name": "python3"
  },
  "language_info": {
   "codemirror_mode": {
    "name": "ipython",
    "version": 3
   },
   "file_extension": ".py",
   "mimetype": "text/x-python",
   "name": "python",
   "nbconvert_exporter": "python",
   "pygments_lexer": "ipython3",
   "version": "3.10.8"
  }
 },
 "nbformat": 4,
 "nbformat_minor": 2
}
