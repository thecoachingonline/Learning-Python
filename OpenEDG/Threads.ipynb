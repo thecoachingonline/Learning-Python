{
 "cells": [
  {
   "cell_type": "code",
   "execution_count": 9,
   "metadata": {},
   "outputs": [],
   "source": [
    "import threading\n",
    "import time"
   ]
  },
  {
   "cell_type": "markdown",
   "metadata": {},
   "source": [
    "# Threads"
   ]
  },
  {
   "cell_type": "code",
   "execution_count": 10,
   "metadata": {},
   "outputs": [
    {
     "data": {
      "text/plain": [
       "[0, 1, 4, 9, 16]"
      ]
     },
     "execution_count": 10,
     "metadata": {},
     "output_type": "execute_result"
    }
   ],
   "source": [
    "def longSquare(num):\n",
    "    time.sleep(1)\n",
    "    return num**2\n",
    "\n",
    "[longSquare(n) for n in range(0, 5)]"
   ]
  },
  {
   "cell_type": "code",
   "execution_count": 11,
   "metadata": {},
   "outputs": [],
   "source": [
    "t1 = threading.Thread(target=longSquare, args=(1,))\n",
    "t2 = threading.Thread(target=longSquare, args=(2,))\n",
    "\n",
    "t1.start()\n",
    "t2.start()\n",
    "\n",
    "t1.join()\n",
    "t2.join()"
   ]
  },
  {
   "cell_type": "code",
   "execution_count": 12,
   "metadata": {},
   "outputs": [
    {
     "name": "stdout",
     "output_type": "stream",
     "text": [
      "{1: 1, 2: 4}\n"
     ]
    }
   ],
   "source": [
    "def longSquare(num, results):\n",
    "    time.sleep(1)\n",
    "    results[num] = num**2\n",
    "\n",
    "results = {}\n",
    "t1 = threading.Thread(target=longSquare, args=(1,results))\n",
    "t2 = threading.Thread(target=longSquare, args=(2,results))\n",
    "\n",
    "t1.start()\n",
    "t2.start()\n",
    "\n",
    "t1.join()\n",
    "t2.join()\n",
    "\n",
    "print(results)"
   ]
  },
  {
   "cell_type": "code",
   "execution_count": 16,
   "metadata": {},
   "outputs": [
    {
     "name": "stdout",
     "output_type": "stream",
     "text": [
      "{0: 0, 2: 4, 3: 9, 1: 1, 4: 16, 5: 25, 6: 36, 7: 49, 9: 81, 8: 64, 10: 100, 11: 121, 12: 144, 13: 169, 14: 196, 15: 225, 16: 256, 18: 324, 17: 289, 23: 529, 24: 576, 21: 441, 26: 676, 25: 625, 20: 400, 27: 729, 19: 361, 22: 484, 29: 841, 31: 961, 28: 784, 30: 900, 32: 1024, 36: 1296, 37: 1369, 38: 1444, 41: 1681, 33: 1089, 40: 1600, 39: 1521, 42: 1764, 34: 1156, 35: 1225, 44: 1936, 43: 1849, 52: 2704, 49: 2401, 48: 2304, 53: 2809, 47: 2209, 46: 2116, 54: 2916, 45: 2025, 56: 3136, 51: 2601, 50: 2500, 55: 3025, 58: 3364, 57: 3249, 62: 3844, 59: 3481, 63: 3969, 60: 3600, 61: 3721, 65: 4225, 64: 4096, 71: 5041, 74: 5476, 75: 5625, 70: 4900, 69: 4761, 73: 5329, 66: 4356, 72: 5184, 68: 4624, 67: 4489, 77: 5929, 78: 6084, 76: 5776, 88: 7744, 79: 6241, 80: 6400, 85: 7225, 84: 7056, 86: 7396, 81: 6561, 89: 7921, 87: 7569, 83: 6889, 82: 6724, 90: 8100, 92: 8464, 94: 8836, 95: 9025, 93: 8649, 91: 8281, 97: 9409, 99: 9801, 98: 9604, 96: 9216}\n"
     ]
    }
   ],
   "source": [
    "def longSquare(num, results):\n",
    "    time.sleep(1)\n",
    "    results[num] = num**2\n",
    "\n",
    "results = {}\n",
    "threads = [threading.Thread(target=longSquare, args=(n, results)) for n in range(0, 100)]\n",
    "[t.start() for t in threads]\n",
    "[t.join() for t in threads]\n",
    "print(results)"
   ]
  }
 ],
 "metadata": {
  "kernelspec": {
   "display_name": "Python 3",
   "language": "python",
   "name": "python3"
  },
  "language_info": {
   "codemirror_mode": {
    "name": "ipython",
    "version": 3
   },
   "file_extension": ".py",
   "mimetype": "text/x-python",
   "name": "python",
   "nbconvert_exporter": "python",
   "pygments_lexer": "ipython3",
   "version": "3.10.8"
  }
 },
 "nbformat": 4,
 "nbformat_minor": 2
}
