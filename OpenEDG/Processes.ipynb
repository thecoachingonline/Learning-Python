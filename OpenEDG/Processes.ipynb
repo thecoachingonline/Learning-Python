{
 "cells": [
  {
   "cell_type": "code",
   "execution_count": 8,
   "metadata": {},
   "outputs": [],
   "source": [
    "from multiprocessing import Process\n",
    "import time\n",
    "import threading"
   ]
  },
  {
   "cell_type": "markdown",
   "metadata": {},
   "source": [
    "# Processes"
   ]
  },
  {
   "cell_type": "code",
   "execution_count": 7,
   "metadata": {},
   "outputs": [
    {
     "name": "stdout",
     "output_type": "stream",
     "text": [
      "4109\n",
      "36\n",
      "\n",
      "6449\n",
      "811625Finished Computing!Finished Computing!\n",
      "\n",
      "\n",
      "Finished Computing!Finished Computing!\n",
      "\n",
      "\n",
      "\n",
      "\n",
      "Finished Computing!Finished Computing!\n",
      "\n",
      "Finished Computing!Finished Computing!Finished Computing!Finished Computing!\n",
      "\n",
      "\n",
      "\n",
      "\n",
      "\n"
     ]
    },
    {
     "data": {
      "text/plain": [
       "[None, None, None, None, None, None, None, None, None, None]"
      ]
     },
     "execution_count": 7,
     "metadata": {},
     "output_type": "execute_result"
    }
   ],
   "source": [
    "def longSquare(num, results):\n",
    "    time.sleep(1)\n",
    "    print(num**2)\n",
    "    print('Finished Computing!')\n",
    "\n",
    "results = {}\n",
    "process = [Process(target=longSquare, args=(n,results)) for n in range(0, 10)]\n",
    "[p.start() for p in process]\n",
    "[p.join() for p in process]"
   ]
  },
  {
   "cell_type": "code",
   "execution_count": 10,
   "metadata": {},
   "outputs": [
    {
     "name": "stdout",
     "output_type": "stream",
     "text": [
      "0\n",
      "Finished Computing!\n",
      "1\n",
      "Finished Computing!\n",
      "4\n",
      "Finished Computing!\n",
      "16\n",
      "Finished Computing!\n",
      "9\n",
      "Finished Computing!\n",
      "36\n",
      "Finished Computing!\n",
      "25\n",
      "Finished Computing!\n",
      "64\n",
      "Finished Computing!\n",
      "81\n",
      "Finished Computing!\n",
      "49\n",
      "Finished Computing!\n",
      "{}\n"
     ]
    }
   ],
   "source": [
    "results = {}\n",
    "threads = [threading.Thread(target=longSquare, args=(n, results)) for n in range(0, 10)]\n",
    "[t.start() for t in threads]\n",
    "[t.join() for t in threads]\n",
    "print(results)"
   ]
  }
 ],
 "metadata": {
  "kernelspec": {
   "display_name": "Python 3",
   "language": "python",
   "name": "python3"
  },
  "language_info": {
   "codemirror_mode": {
    "name": "ipython",
    "version": 3
   },
   "file_extension": ".py",
   "mimetype": "text/x-python",
   "name": "python",
   "nbconvert_exporter": "python",
   "pygments_lexer": "ipython3",
   "version": "3.10.8"
  }
 },
 "nbformat": 4,
 "nbformat_minor": 2
}
