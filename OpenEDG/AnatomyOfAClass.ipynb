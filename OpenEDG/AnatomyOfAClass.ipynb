{
 "cells": [
  {
   "cell_type": "markdown",
   "metadata": {},
   "source": [
    "## Class"
   ]
  },
  {
   "cell_type": "markdown",
   "metadata": {},
   "source": [
    "## Instance Attributes"
   ]
  },
  {
   "cell_type": "code",
   "execution_count": 2,
   "metadata": {},
   "outputs": [
    {
     "name": "stdout",
     "output_type": "stream",
     "text": [
      "Rover\n",
      "4\n"
     ]
    }
   ],
   "source": [
    "class Dog:\n",
    "    def __init__(self, name):\n",
    "        self.name = name\n",
    "        self.legs = 4\n",
    "\n",
    "    def speak(self):\n",
    "        print(self.name + ' says: Bark!')\n",
    "\n",
    "myDog = Dog('Rover')\n",
    "print(myDog.name)\n",
    "print(myDog.legs)"
   ]
  },
  {
   "cell_type": "code",
   "execution_count": 3,
   "metadata": {},
   "outputs": [
    {
     "ename": "AttributeError",
     "evalue": "type object 'Dog' has no attribute 'legs'",
     "output_type": "error",
     "traceback": [
      "\u001b[0;31m---------------------------------------------------------------------------\u001b[0m",
      "\u001b[0;31mAttributeError\u001b[0m                            Traceback (most recent call last)",
      "Cell \u001b[0;32mIn[3], line 1\u001b[0m\n\u001b[0;32m----> 1\u001b[0m \u001b[43mDog\u001b[49m\u001b[38;5;241;43m.\u001b[39;49m\u001b[43mlegs\u001b[49m\n",
      "\u001b[0;31mAttributeError\u001b[0m: type object 'Dog' has no attribute 'legs'"
     ]
    }
   ],
   "source": [
    "Dog.legs"
   ]
  },
  {
   "cell_type": "markdown",
   "metadata": {},
   "source": [
    "## Static Attributes"
   ]
  },
  {
   "cell_type": "code",
   "execution_count": 4,
   "metadata": {},
   "outputs": [
    {
     "name": "stdout",
     "output_type": "stream",
     "text": [
      "Rover\n",
      "4\n"
     ]
    }
   ],
   "source": [
    "class Dog:\n",
    "    legs = 4\n",
    "    def __init__(self, name):\n",
    "        self.name = name\n",
    "        \n",
    "    def speak(self):\n",
    "        print(self.name + ' says: Bark!')\n",
    "\n",
    "myDog = Dog('Rover')\n",
    "print(myDog.name)\n",
    "print(myDog.legs)"
   ]
  },
  {
   "cell_type": "code",
   "execution_count": 5,
   "metadata": {},
   "outputs": [
    {
     "data": {
      "text/plain": [
       "4"
      ]
     },
     "execution_count": 5,
     "metadata": {},
     "output_type": "execute_result"
    }
   ],
   "source": [
    "Dog.legs"
   ]
  },
  {
   "cell_type": "code",
   "execution_count": 6,
   "metadata": {},
   "outputs": [],
   "source": [
    "Dog.legs = 3"
   ]
  },
  {
   "cell_type": "code",
   "execution_count": 7,
   "metadata": {},
   "outputs": [
    {
     "name": "stdout",
     "output_type": "stream",
     "text": [
      "Rover\n",
      "3\n"
     ]
    }
   ],
   "source": [
    "myDog = Dog('Rover')\n",
    "print(myDog.name)\n",
    "print(myDog.legs)"
   ]
  },
  {
   "cell_type": "code",
   "execution_count": 9,
   "metadata": {},
   "outputs": [
    {
     "name": "stdout",
     "output_type": "stream",
     "text": [
      "Rover\n",
      "4\n"
     ]
    }
   ],
   "source": [
    "class Dog:\n",
    "    _legs = 4\n",
    "    def __init__(self, name):\n",
    "        self.name = name\n",
    "    \n",
    "    def getLegs(self):\n",
    "        return self._legs\n",
    "    \n",
    "    def speak(self):\n",
    "        print (self.name + ' says: Bark!')\n",
    "\n",
    "myDog = Dog ('Rover')\n",
    "print (myDog.name)\n",
    "print (myDog.getLegs())"
   ]
  },
  {
   "cell_type": "code",
   "execution_count": 11,
   "metadata": {},
   "outputs": [
    {
     "name": "stdout",
     "output_type": "stream",
     "text": [
      "Rover\n",
      "3\n",
      "4\n"
     ]
    }
   ],
   "source": [
    "myDog = Dog( 'Rover')\n",
    "myDog._legs = 3\n",
    "print (myDog.name)\n",
    "print (myDog.getLegs())\n",
    "print (Dog._legs)"
   ]
  },
  {
   "cell_type": "code",
   "execution_count": null,
   "metadata": {},
   "outputs": [],
   "source": []
  }
 ],
 "metadata": {
  "kernelspec": {
   "display_name": "Python 3",
   "language": "python",
   "name": "python3"
  },
  "language_info": {
   "codemirror_mode": {
    "name": "ipython",
    "version": 3
   },
   "file_extension": ".py",
   "mimetype": "text/x-python",
   "name": "python",
   "nbconvert_exporter": "python",
   "pygments_lexer": "ipython3",
   "version": "3.10.8"
  }
 },
 "nbformat": 4,
 "nbformat_minor": 2
}
